{
 "cells": [
  {
   "cell_type": "markdown",
   "id": "d7447d3f-11ce-46c5-9635-865ccac174c1",
   "metadata": {
    "tags": []
   },
   "source": [
    "# Import & Functions"
   ]
  },
  {
   "cell_type": "code",
   "execution_count": null,
   "id": "32901c84-4f57-4c78-809f-6afbf79e86d0",
   "metadata": {},
   "outputs": [],
   "source": [
    "import os\n",
    "import sys\n",
    "import time\n",
    "import glob\n",
    "import numpy as np\n",
    "import pandas as pd\n",
    "\n",
    "import nibabel as nib\n",
    "import SimpleITK as sitk\n",
    "\n",
    "from scipy import ndimage\n",
    "import torch\n",
    "from util.spatialTransform import SpatialTransformer\n",
    "from util.util import save_as_3D, create_4DCT"
   ]
  },
  {
   "cell_type": "code",
   "execution_count": null,
   "id": "2fb39468-64fc-448f-b423-c05c0ec2f8b8",
   "metadata": {
    "tags": []
   },
   "outputs": [],
   "source": [
    "def resize_dvf(input_f, resize_value=[128,128,128], out_type = 'int16'):\n",
    "    \"\"\"\n",
    "    Resize 3D data to fit the same size\n",
    "    \n",
    "    :param input_f: nifti file (.nii.gz\n",
    "\t:param x: image x,y,z dimensions\n",
    "\t:param y: image y dimensions\n",
    "\t:param z: image z dimensions\n",
    "    :param resize_value: image dims wanted, by default 256\n",
    "\t:return: nothing but create .nii.gz file (type: float32)\n",
    "    \n",
    "    \"\"\"\n",
    "    # Load nifti image\n",
    "    img = nib.load(input_f)\n",
    "    hdr = img.header\n",
    "    # print(\"Resize file\", input_f)\n",
    "    # print(\"Original image shape: \",img.shape)\n",
    "    \n",
    "    # Get ndarray\n",
    "    data = img.get_fdata()\n",
    "    current_width = data.shape[0]\n",
    "    current_height = data.shape[1]\n",
    "    current_depth = data.shape[2]\n",
    "\n",
    "    width = current_width / resize_value[0]\n",
    "    height = current_height / resize_value[1]\n",
    "    depth = current_depth / resize_value[2]\n",
    "    \n",
    "    # Calcul zoom ratio\n",
    "    width_factor = 1 / width\n",
    "    height_factor = 1 / height\n",
    "    depth_factor = 1 / depth\n",
    "    \n",
    "    new_img = ndimage.zoom(data, zoom=(width_factor, height_factor, depth_factor, 1), order=1)\n",
    "    \n",
    "    # Create new image    \n",
    "    # print(\"New image shape (after zoom): \", new_img.shape)\n",
    "    if out_type == 'float32':\n",
    "        new_img = new_img.astype(np.float32)\n",
    "    if out_type == 'int16':\n",
    "        new_img = new_img.astype(np.int16)\n",
    "    if out_type == 'uint8':\n",
    "        new_img = new_img.astype(np.uint8)\n",
    "    \n",
    "    return new_img"
   ]
  },
  {
   "cell_type": "code",
   "execution_count": null,
   "id": "7cfcb418-7f56-42c1-a632-7fcfc091903d",
   "metadata": {},
   "outputs": [],
   "source": [
    "def mkdir(dirpath):\n",
    "    \"\"\"\n",
    "    Create directory if no directory with the given path\n",
    "    :param dirpath: directory path\n",
    "    :return: nothing but create directory (if needed)\n",
    "    \"\"\"\n",
    "    if not os.path.exists(dirpath):\n",
    "        print(\"Creating directory at:\", dirpath)\n",
    "        os.makedirs(dirpath)"
   ]
  },
  {
   "cell_type": "markdown",
   "id": "f31e1fdc-fa5a-4059-9793-c4afc58827ae",
   "metadata": {},
   "source": [
    "# Postprocessing"
   ]
  },
  {
   "cell_type": "markdown",
   "id": "a7e068bd-8ca3-4555-af4c-c53a162fd6e6",
   "metadata": {},
   "source": [
    "## Initialisation"
   ]
  },
  {
   "cell_type": "code",
   "execution_count": null,
   "id": "26cd854a-c9b2-4567-beec-c4b4fcf024ad",
   "metadata": {},
   "outputs": [],
   "source": [
    "# 0. Init\n",
    "csv_dir      = './datasets/000_csv/'\n",
    "original_dir = './datasets/001_original/'\n",
    "bb_dir       = './datasets/002_bounding_box/'\n",
    "\n",
    "result_dir = './results/pretrained_model/'\n",
    "bb_values = pd.read_csv('./datasets/000_csv/final_bb.csv')"
   ]
  },
  {
   "cell_type": "markdown",
   "id": "3386d165-382f-49ee-98af-d07d980bd988",
   "metadata": {},
   "source": [
    "## Choose used input file (128x128x128)"
   ]
  },
  {
   "cell_type": "code",
   "execution_count": null,
   "id": "41382c43-7e11-4a3c-b6a0-8e29c0fd38d5",
   "metadata": {},
   "outputs": [],
   "source": [
    "# 1. Choose input file (128x128x128)\n",
    "# Write path of input file\n",
    "INPUT_FILE = './datasets/imagesTs/LungCT_0100_0005.nii.gz'\n",
    "\n",
    "# 2. Find case\n",
    "name = os.path.basename(INPUT_FILE)\n",
    "case = name.split('_')[1]"
   ]
  },
  {
   "cell_type": "markdown",
   "id": "774b12b0-b62d-4516-b79c-b7859fb697cf",
   "metadata": {},
   "source": [
    "## Create output directory"
   ]
  },
  {
   "cell_type": "code",
   "execution_count": null,
   "id": "b360d1e3-3832-466b-9612-44d2d49a223a",
   "metadata": {},
   "outputs": [],
   "source": [
    "# 3. Create Directories of the case\n",
    "generated_dvf_dir = os.path.join(result_dir, case, 'dvf/')\n",
    "warped_dir = os.path.join(result_dir, case, 'warped_initialsize/')\n",
    "\n",
    "# Create directories\n",
    "mkdir(warped_dir)"
   ]
  },
  {
   "cell_type": "markdown",
   "id": "6cadaf78-6f73-444d-9340-f3f72e067952",
   "metadata": {},
   "source": [
    "## To initial size"
   ]
  },
  {
   "cell_type": "code",
   "execution_count": null,
   "id": "f3e9ae5b-b325-423b-96bb-1b1cf16de054",
   "metadata": {
    "tags": []
   },
   "outputs": [],
   "source": [
    "# 4. Get BB size\n",
    "bb_file = os.path.join(bb_dir,name)\n",
    "img = nib.load(bb_file)\n",
    "dim_X, dim_Y, dim_Z = img.shape\n",
    "resize_values = [dim_X, dim_Y, dim_Z]\n",
    "\n",
    "# 5. Get DVF files\n",
    "dvf_files = sorted(glob.glob(generated_dvf_dir + \"/*\"))\n",
    "\n",
    "# Find original input file & read bounding box from preprocessing\n",
    "original_file = os.path.join(original_dir, name)\n",
    "\n",
    "for dvf_file in dvf_files[:]:\n",
    "    start_time = time.time()\n",
    "    \n",
    "    # 6. DVF resize to bb size\n",
    "    print('--- Start resampled to BB size')\n",
    "    bb_arr = resize_dvf(dvf_file, resize_values, 'float32')\n",
    "    \n",
    "    # 7. Get bounding box position\n",
    "    tmp_values = bb_values[bb_values.case == int(case)].values[0][2:]\n",
    "    \n",
    "    # 8. Put BB into initial size\n",
    "    print('--- Start to insert back to initial size')\n",
    "    input_arr = nib.load(original_file).get_fdata()\n",
    "    D,W,H = input_arr.shape\n",
    "    result = np.zeros((D, W, H, 3))\n",
    "    result[tmp_values[0]:tmp_values[0]+tmp_values[3], tmp_values[1]:tmp_values[1]+tmp_values[4], tmp_values[2]:tmp_values[2]+tmp_values[5], :] = bb_arr\n",
    "\n",
    "    # 9. Warp image with DVF\n",
    "    print('--- Start warping')\n",
    "    input_field = result.transpose(3,0,1,2)\n",
    "    \n",
    "    # Apply same transform as in model\n",
    "    transform = SpatialTransformer(np.asarray(input_arr.shape))\n",
    "\n",
    "    # to torch\n",
    "    input_field_t = torch.from_numpy(input_field.astype(np.float32)).unsqueeze(0)\n",
    "    moving_t = torch.from_numpy(input_arr.astype(np.float32)).unsqueeze(0).unsqueeze(1)\n",
    "\n",
    "    warped = transform(moving_t, input_field_t)\n",
    "    warped_file = os.path.join(warped_dir, os.path.basename(dvf_file).replace('-dvf','-warped'))\n",
    "    save_as_3D(warped, [original_file], warped_file, range_intensity=[-1,1])\n",
    "    print(\"--- Finish file : \", dvf_file)\n",
    "    print(\"--- %s seconds ---\" % (time.time() - start_time))"
   ]
  },
  {
   "cell_type": "markdown",
   "id": "9e8ad7f9-a2b4-4218-b915-dcc43a34f30e",
   "metadata": {},
   "source": [
    "## Generate 4DCT"
   ]
  },
  {
   "cell_type": "code",
   "execution_count": null,
   "id": "8fa54b00-7f43-49c3-a56b-81451db52856",
   "metadata": {},
   "outputs": [],
   "source": [
    "# 10. Create the associate 4DCT\n",
    "final_file = result_dir + name.rsplit('_',1)[0] + '_4DCT_postprocess.nii.gz'\n",
    "create_4DCT([original_file], warped_dir, final_file, loop=0)"
   ]
  }
 ],
 "metadata": {
  "kernelspec": {
   "display_name": "Python 3",
   "language": "python",
   "name": "python3"
  },
  "language_info": {
   "codemirror_mode": {
    "name": "ipython",
    "version": 3
   },
   "file_extension": ".py",
   "mimetype": "text/x-python",
   "name": "python",
   "nbconvert_exporter": "python",
   "pygments_lexer": "ipython3",
   "version": "3.8.10"
  },
  "toc-autonumbering": false
 },
 "nbformat": 4,
 "nbformat_minor": 5
}
